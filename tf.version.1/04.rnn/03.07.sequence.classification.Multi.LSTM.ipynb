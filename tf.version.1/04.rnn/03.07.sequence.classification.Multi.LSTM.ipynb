{
 "cells": [
  {
   "cell_type": "markdown",
   "metadata": {},
   "source": [
    "# Sequence classification by multi-layered LSTM\n",
    "\n",
    "* Creating the **data pipeline** with `tf.data`\n",
    "* Preprocessing word sequences (variable input sequence length) using `tf.keras.preprocessing`\n",
    "* Using `tf.nn.embedding_lookup` for getting vector of tokens (eg. word, character)\n",
    "* Creating the model as **Class**\n",
    "* Reference\n",
    "  * https://github.com/golbin/TensorFlow-Tutorials/blob/master/10%20-%20RNN/02%20-%20Autocomplete.py\n",
    "  * https://github.com/aisolab/TF_code_examples_for_Deep_learning/blob/master/Tutorial%20of%20implementing%20Sequence%20classification%20with%20RNN%20series.ipynb"
   ]
  },
  {
   "cell_type": "code",
   "execution_count": 1,
   "metadata": {},
   "outputs": [],
   "source": [
    "from __future__ import absolute_import\n",
    "from __future__ import division\n",
    "from __future__ import print_function\n",
    "\n",
    "import os\n",
    "import time\n",
    "import numpy as np\n",
    "import matplotlib.pyplot as plt\n",
    "%matplotlib inline\n",
    "from IPython.display import clear_output\n",
    "\n",
    "import tensorflow as tf\n",
    "\n",
    "slim = tf.contrib.slim\n",
    "rnn = tf.contrib.rnn\n",
    "\n",
    "tf.logging.set_verbosity(tf.logging.INFO)\n",
    "\n",
    "sess_config = tf.ConfigProto(gpu_options=tf.GPUOptions(allow_growth=True))\n",
    "os.environ[\"CUDA_VISIBLE_DEVICES\"]=\"0\""
   ]
  },
  {
   "cell_type": "code",
   "execution_count": 2,
   "metadata": {},
   "outputs": [],
   "source": [
    "from tensorflow.python.keras.preprocessing.text import Tokenizer\n",
    "from tensorflow.python.keras.preprocessing.sequence import pad_sequences"
   ]
  },
  {
   "cell_type": "markdown",
   "metadata": {},
   "source": [
    "## Prepare example data"
   ]
  },
  {
   "cell_type": "code",
   "execution_count": 3,
   "metadata": {},
   "outputs": [],
   "source": [
    "x_train_words = ['good', 'bad', 'amazing', 'so good', 'bull shit',\n",
    "                 'awesome', 'how dare', 'very much', 'nice', 'god damn it',\n",
    "                 'very very very happy', 'what the fuck']\n",
    "y_train = np.array([0, 1, 0, 0, 1,\n",
    "                    0, 1, 0, 0, 1,\n",
    "                    0, 1], dtype=np.int32)"
   ]
  },
  {
   "cell_type": "code",
   "execution_count": 4,
   "metadata": {},
   "outputs": [
    {
     "name": "stdout",
     "output_type": "stream",
     "text": [
      "word: good\n",
      "label: 0\n"
     ]
    }
   ],
   "source": [
    "# positive sample\n",
    "index = 0\n",
    "print(\"word: {}\\nlabel: {}\".format(x_train_words[index], y_train[index]))"
   ]
  },
  {
   "cell_type": "code",
   "execution_count": 5,
   "metadata": {},
   "outputs": [
    {
     "name": "stdout",
     "output_type": "stream",
     "text": [
      "word: bad\n",
      "label: 1\n"
     ]
    }
   ],
   "source": [
    "# negative sample\n",
    "index = 1\n",
    "print(\"word: {}\\nlabel: {}\".format(x_train_words[index], y_train[index]))"
   ]
  },
  {
   "cell_type": "markdown",
   "metadata": {},
   "source": [
    "## Tokenizer"
   ]
  },
  {
   "cell_type": "code",
   "execution_count": 6,
   "metadata": {},
   "outputs": [],
   "source": [
    "tokenizer = Tokenizer(char_level=True)"
   ]
  },
  {
   "cell_type": "code",
   "execution_count": 7,
   "metadata": {},
   "outputs": [
    {
     "name": "stdout",
     "output_type": "stream",
     "text": [
      "CPU times: user 212 µs, sys: 5 µs, total: 217 µs\n",
      "Wall time: 225 µs\n"
     ]
    }
   ],
   "source": [
    "%%time\n",
    "tokenizer.fit_on_texts(x_train_words)"
   ]
  },
  {
   "cell_type": "code",
   "execution_count": 8,
   "metadata": {},
   "outputs": [
    {
     "name": "stdout",
     "output_type": "stream",
     "text": [
      "number of characters: 25\n"
     ]
    }
   ],
   "source": [
    "num_chars = len(tokenizer.word_index) + 1\n",
    "print(\"number of characters: {}\".format(num_chars))"
   ]
  },
  {
   "cell_type": "code",
   "execution_count": 9,
   "metadata": {},
   "outputs": [
    {
     "data": {
      "text/plain": [
       "{' ': 1,\n",
       " 'e': 2,\n",
       " 'o': 3,\n",
       " 'a': 4,\n",
       " 'd': 5,\n",
       " 'h': 6,\n",
       " 'r': 7,\n",
       " 'y': 8,\n",
       " 'g': 9,\n",
       " 'm': 10,\n",
       " 'i': 11,\n",
       " 't': 12,\n",
       " 'v': 13,\n",
       " 'n': 14,\n",
       " 's': 15,\n",
       " 'u': 16,\n",
       " 'w': 17,\n",
       " 'c': 18,\n",
       " 'b': 19,\n",
       " 'l': 20,\n",
       " 'p': 21,\n",
       " 'z': 22,\n",
       " 'f': 23,\n",
       " 'k': 24}"
      ]
     },
     "execution_count": 9,
     "metadata": {},
     "output_type": "execute_result"
    }
   ],
   "source": [
    "tokenizer.word_index"
   ]
  },
  {
   "cell_type": "code",
   "execution_count": 10,
   "metadata": {},
   "outputs": [],
   "source": [
    "x_train_tokens = tokenizer.texts_to_sequences(x_train_words)"
   ]
  },
  {
   "cell_type": "code",
   "execution_count": 11,
   "metadata": {},
   "outputs": [
    {
     "name": "stdout",
     "output_type": "stream",
     "text": [
      "text: amazing\n",
      "token: [4, 10, 4, 22, 11, 14, 9]\n"
     ]
    }
   ],
   "source": [
    "index = 2\n",
    "print(\"text: {}\".format(x_train_words[index]))\n",
    "print(\"token: {}\".format(x_train_tokens[index]))"
   ]
  },
  {
   "cell_type": "code",
   "execution_count": 12,
   "metadata": {},
   "outputs": [],
   "source": [
    "x_train_seq_length = np.array([len(tokens) for tokens in x_train_tokens], dtype=np.int32)\n",
    "num_seq_length = x_train_seq_length"
   ]
  },
  {
   "cell_type": "code",
   "execution_count": 13,
   "metadata": {},
   "outputs": [
    {
     "name": "stdout",
     "output_type": "stream",
     "text": [
      "20\n"
     ]
    }
   ],
   "source": [
    "max_seq_length = np.max(num_seq_length)\n",
    "print(max_seq_length)"
   ]
  },
  {
   "cell_type": "markdown",
   "metadata": {},
   "source": [
    "### Create pad_seq data"
   ]
  },
  {
   "cell_type": "code",
   "execution_count": 14,
   "metadata": {},
   "outputs": [],
   "source": [
    "#pad = 'pre'\n",
    "pad = 'post'"
   ]
  },
  {
   "cell_type": "code",
   "execution_count": 15,
   "metadata": {},
   "outputs": [],
   "source": [
    "x_train_pad = pad_sequences(sequences=x_train_tokens, maxlen=max_seq_length,\n",
    "                            padding=pad, truncating=pad)"
   ]
  },
  {
   "cell_type": "code",
   "execution_count": 16,
   "metadata": {},
   "outputs": [
    {
     "name": "stdout",
     "output_type": "stream",
     "text": [
      "text: very much\n",
      "\n",
      "token: [13, 2, 7, 8, 1, 10, 16, 18, 6]\n",
      "\n",
      "pad: [13  2  7  8  1 10 16 18  6  0  0  0  0  0  0  0  0  0  0  0]\n"
     ]
    }
   ],
   "source": [
    "index = 7\n",
    "print(\"text: {}\\n\".format(x_train_words[index]))\n",
    "print(\"token: {}\\n\".format(x_train_tokens[index]))\n",
    "print(\"pad: {}\".format(x_train_pad[index]))"
   ]
  },
  {
   "cell_type": "markdown",
   "metadata": {},
   "source": [
    "### Tokenizer Inverse Map"
   ]
  },
  {
   "cell_type": "code",
   "execution_count": 17,
   "metadata": {},
   "outputs": [
    {
     "name": "stdout",
     "output_type": "stream",
     "text": [
      "{1: ' ', 2: 'e', 3: 'o', 4: 'a', 5: 'd', 6: 'h', 7: 'r', 8: 'y', 9: 'g', 10: 'm', 11: 'i', 12: 't', 13: 'v', 14: 'n', 15: 's', 16: 'u', 17: 'w', 18: 'c', 19: 'b', 20: 'l', 21: 'p', 22: 'z', 23: 'f', 24: 'k'}\n"
     ]
    }
   ],
   "source": [
    "idx = tokenizer.word_index\n",
    "inverse_map = dict(zip(idx.values(), idx.keys()))\n",
    "print(inverse_map)"
   ]
  },
  {
   "cell_type": "code",
   "execution_count": 18,
   "metadata": {},
   "outputs": [],
   "source": [
    "def tokens_to_string(tokens):\n",
    "  # Map from tokens back to words.\n",
    "  words = [inverse_map[token] for token in tokens if token != 0]\n",
    "\n",
    "  # Concatenate all words.\n",
    "  text = \"\".join(words)\n",
    "\n",
    "  return text"
   ]
  },
  {
   "cell_type": "code",
   "execution_count": 19,
   "metadata": {},
   "outputs": [
    {
     "name": "stdout",
     "output_type": "stream",
     "text": [
      "original text:\n",
      "very very very happy\n",
      "\n",
      "tokens to string:\n",
      "very very very happy\n"
     ]
    }
   ],
   "source": [
    "index = 10\n",
    "print(\"original text:\\n{}\\n\".format(x_train_words[index]))\n",
    "print(\"tokens to string:\\n{}\".format(tokens_to_string(x_train_tokens[index])))"
   ]
  },
  {
   "cell_type": "markdown",
   "metadata": {},
   "source": [
    "## Create the Recurrent Neural Network\n",
    "\n",
    "We are now ready to create the Recurrent Neural Network (RNN). We will use the TensorFlow API."
   ]
  },
  {
   "cell_type": "code",
   "execution_count": 20,
   "metadata": {},
   "outputs": [],
   "source": [
    "# Set the hyperparameter set\n",
    "batch_size = 4\n",
    "max_epochs = 50\n",
    "#embedding_size = 8\n",
    "num_units = [32, 16] # the number of nodes in RNN hidden layer\n",
    "num_classes = 2 # Two classes [True, False]\n",
    "initializer_scale = 0.1\n",
    "learning_rate = 1e-3"
   ]
  },
  {
   "cell_type": "markdown",
   "metadata": {},
   "source": [
    "### Set up dataset with `tf.data`\n",
    "\n",
    "#### create input pipeline with `tf.data.Dataset`"
   ]
  },
  {
   "cell_type": "code",
   "execution_count": 21,
   "metadata": {},
   "outputs": [
    {
     "name": "stdout",
     "output_type": "stream",
     "text": [
      "<BatchDataset shapes: ((?, 20), (?,), (?,)), types: (tf.int32, tf.int32, tf.int32)>\n"
     ]
    }
   ],
   "source": [
    "## create data pipeline with tf.data\n",
    "train_dataset = tf.data.Dataset.from_tensor_slices((x_train_pad, x_train_seq_length, y_train))\n",
    "train_dataset = train_dataset.shuffle(buffer_size = 100)\n",
    "train_dataset = train_dataset.repeat(max_epochs)\n",
    "train_dataset = train_dataset.batch(batch_size = batch_size)\n",
    "print(train_dataset)"
   ]
  },
  {
   "cell_type": "markdown",
   "metadata": {},
   "source": [
    "#### Define Iterator"
   ]
  },
  {
   "cell_type": "code",
   "execution_count": 22,
   "metadata": {},
   "outputs": [],
   "source": [
    "handle = tf.placeholder(tf.string, shape=[])\n",
    "iterator = tf.data.Iterator.from_string_handle(handle,\n",
    "                                               train_dataset.output_types,\n",
    "                                               train_dataset.output_shapes)\n",
    "seq_pad, seq_length, labels = iterator.get_next()"
   ]
  },
  {
   "cell_type": "markdown",
   "metadata": {},
   "source": [
    "### Define CharRNN class"
   ]
  },
  {
   "cell_type": "code",
   "execution_count": 23,
   "metadata": {},
   "outputs": [],
   "source": [
    "class CharRNN:\n",
    "  def __init__(self, num_chars,\n",
    "               seq_pad, seq_length, labels,\n",
    "               num_units=num_units, num_classes=num_classes):\n",
    "    self.num_chars = num_chars\n",
    "    self.seq_pad = seq_pad\n",
    "    self.seq_length = seq_length\n",
    "    self.labels = labels\n",
    "    self.num_units = num_units\n",
    "    self.num_classes = num_classes\n",
    "    \n",
    "  def build_embeddings(self):\n",
    "    with tf.variable_scope('embedding_layer'):\n",
    "      one_hot = tf.eye(self.num_chars, dtype=tf.float32)\n",
    "      one_hot_matrix = tf.get_variable(name='one_hot_embedding',\n",
    "                                       initializer=one_hot,\n",
    "                                       trainable=False) # embedding matrix: No training\n",
    "      self.embeddings = tf.nn.embedding_lookup(params=one_hot_matrix, ids=self.seq_pad)\n",
    "      \n",
    "  def build_layers(self):\n",
    "    # MultiLayered LSTM cell\n",
    "    with tf.variable_scope('multi_lstm_cell'):\n",
    "      multi_cells = rnn.MultiRNNCell([rnn.BasicLSTMCell(num_units=num_units, state_is_tuple=True) \\\n",
    "                                      for num_units in self.num_units])\n",
    "      _, self.states = tf.nn.dynamic_rnn(cell=multi_cells, inputs=self.embeddings,\n",
    "                                         sequence_length=self.seq_length,\n",
    "                                         dtype=tf.float32)\n",
    "      \n",
    "  def build_outputs(self):\n",
    "    logits = slim.fully_connected(inputs=self.states[-1].h,\n",
    "                                  num_outputs=self.num_classes,\n",
    "                                  activation_fn=None,\n",
    "                                  scope='logits')\n",
    "    return logits\n",
    "  \n",
    "  def bce_loss(self):\n",
    "    one_hot_labels = tf.one_hot(self.labels, depth=self.num_classes)\n",
    "    loss = tf.losses.sigmoid_cross_entropy(multi_class_labels=one_hot_labels,\n",
    "                                           logits=self.logits,\n",
    "                                           scope='binary_cross_entropy')\n",
    "    return loss\n",
    "  \n",
    "  def predict(self):\n",
    "    with tf.variable_scope('predictions'):\n",
    "      predictions = tf.argmax(input=self.logits, axis=-1, output_type=tf.int32)\n",
    "      \n",
    "      return predictions\n",
    "  \n",
    "  def build(self):\n",
    "    self.global_step = tf.train.get_or_create_global_step()\n",
    "    \n",
    "    self.build_embeddings()\n",
    "    self.build_layers()\n",
    "    self.logits = self.build_outputs()\n",
    "    \n",
    "    self.loss = self.bce_loss()\n",
    "    self.predictions = self.predict()\n",
    "    \n",
    "    print(\"complete model build.\")"
   ]
  },
  {
   "cell_type": "code",
   "execution_count": 24,
   "metadata": {},
   "outputs": [
    {
     "name": "stdout",
     "output_type": "stream",
     "text": [
      "WARNING:tensorflow:From <ipython-input-23-fcdc1dc9e6a2>:23: BasicLSTMCell.__init__ (from tensorflow.python.ops.rnn_cell_impl) is deprecated and will be removed in a future version.\n",
      "Instructions for updating:\n",
      "This class is deprecated, please use tf.nn.rnn_cell.LSTMCell, which supports all the feature this cell currently has. Please replace the existing code with tf.nn.rnn_cell.LSTMCell(name='basic_lstm_cell').\n",
      "complete model build.\n",
      "---------\n",
      "Variables: name (type shape) [size]\n",
      "---------\n",
      "multi_lstm_cell/rnn/multi_rnn_cell/cell_0/basic_lstm_cell/kernel:0 (float32_ref 57x128) [7296, bytes: 29184]\n",
      "multi_lstm_cell/rnn/multi_rnn_cell/cell_0/basic_lstm_cell/bias:0 (float32_ref 128) [128, bytes: 512]\n",
      "multi_lstm_cell/rnn/multi_rnn_cell/cell_1/basic_lstm_cell/kernel:0 (float32_ref 48x64) [3072, bytes: 12288]\n",
      "multi_lstm_cell/rnn/multi_rnn_cell/cell_1/basic_lstm_cell/bias:0 (float32_ref 64) [64, bytes: 256]\n",
      "logits/weights:0 (float32_ref 16x2) [32, bytes: 128]\n",
      "logits/biases:0 (float32_ref 2) [2, bytes: 8]\n",
      "Total size of variables: 10594\n",
      "Total bytes of variables: 42376\n"
     ]
    },
    {
     "data": {
      "text/plain": [
       "(10594, 42376)"
      ]
     },
     "execution_count": 24,
     "metadata": {},
     "output_type": "execute_result"
    }
   ],
   "source": [
    "model = CharRNN(num_chars=num_chars,\n",
    "                seq_pad=seq_pad,\n",
    "                seq_length=seq_length,\n",
    "                labels=labels,\n",
    "                num_units=num_units,\n",
    "                num_classes=num_classes)\n",
    "model.build()\n",
    "\n",
    "# show info for trainable variables\n",
    "t_vars = tf.trainable_variables()\n",
    "slim.model_analyzer.analyze_vars(t_vars, print_info=True)"
   ]
  },
  {
   "cell_type": "markdown",
   "metadata": {},
   "source": [
    "### Creat training op"
   ]
  },
  {
   "cell_type": "code",
   "execution_count": 25,
   "metadata": {},
   "outputs": [],
   "source": [
    "# create training op\n",
    "optimizer = tf.train.AdamOptimizer(learning_rate)\n",
    "train_op = optimizer.minimize(model.loss, global_step=model.global_step)"
   ]
  },
  {
   "cell_type": "markdown",
   "metadata": {},
   "source": [
    "### `tf.Session()` and train"
   ]
  },
  {
   "cell_type": "code",
   "execution_count": 26,
   "metadata": {},
   "outputs": [
    {
     "name": "stdout",
     "output_type": "stream",
     "text": [
      "mkdir: ./train/seq_classification.multilstm/exp1\n"
     ]
    }
   ],
   "source": [
    "train_dir = './train/seq_classification.multilstm/exp1'\n",
    "if not tf.gfile.Exists(train_dir):\n",
    "  print(\"mkdir: {}\".format(train_dir))\n",
    "  tf.gfile.MakeDirs(train_dir)\n",
    "else:\n",
    "  print(\"already exist!\")\n",
    "saver = tf.train.Saver(tf.global_variables(), max_to_keep=1000)"
   ]
  },
  {
   "cell_type": "code",
   "execution_count": 27,
   "metadata": {},
   "outputs": [
    {
     "name": "stdout",
     "output_type": "stream",
     "text": [
      "Epochs: 50.000 global_step: 150 loss: 0.025 (215.63 examples/sec; 0.019 sec/batch)\n",
      "INFO:tensorflow:Saving model with global step 150 (= 50 epochs) to disk.\n",
      "End of dataset\n",
      "INFO:tensorflow:Saving model with global step 150 (= 50 epochs) to disk.\n",
      "INFO:tensorflow:complete training...\n"
     ]
    }
   ],
   "source": [
    "tf.logging.info('Start Session.')\n",
    "sess = tf.Session(config=sess_config)\n",
    "sess.run(tf.global_variables_initializer())\n",
    "\n",
    "train_iterator = train_dataset.make_one_shot_iterator()\n",
    "train_handle = sess.run(train_iterator.string_handle())\n",
    "\n",
    "tf.logging.info('Start train.')\n",
    "# save loss values for plot\n",
    "loss_history = []\n",
    "pre_epochs = 0\n",
    "while True:\n",
    "  try:\n",
    "    start_time = time.time()\n",
    "    _, global_step, loss = sess.run([train_op,\n",
    "                                     model.global_step,\n",
    "                                     model.loss],\n",
    "                                    feed_dict={handle: train_handle})\n",
    "    \n",
    "    epochs = global_step * batch_size / float(len(x_train_words))\n",
    "    duration = time.time() - start_time\n",
    "\n",
    "    print_steps = 1\n",
    "    if global_step % print_steps == 0:\n",
    "      clear_output(wait=True)\n",
    "      examples_per_sec = batch_size  / float(duration)\n",
    "      print(\"Epochs: {:.3f} global_step: {} loss: {:.3f} ({:.2f} examples/sec; {:.3f} sec/batch)\".format(\n",
    "                epochs, global_step, loss, examples_per_sec, duration))\n",
    "\n",
    "      loss_history.append([epochs, loss])\n",
    "\n",
    "    # save model checkpoint periodically\n",
    "    save_epochs = 10\n",
    "    if int(epochs) % save_epochs == 0  and  pre_epochs != int(epochs):\n",
    "      tf.logging.info('Saving model with global step {} (= {} epochs) to disk.'.format(global_step, int(epochs)))\n",
    "      saver.save(sess, train_dir + 'model.ckpt', global_step=global_step)\n",
    "      pre_epochs = int(epochs)\n",
    "\n",
    "  except tf.errors.OutOfRangeError:\n",
    "    print(\"End of dataset\")  # ==> \"End of dataset\"\n",
    "    tf.logging.info('Saving model with global step {} (= {} epochs) to disk.'.format(global_step, int(epochs)))\n",
    "    saver.save(sess, train_dir + 'model.ckpt', global_step=global_step)\n",
    "    break\n",
    "\n",
    "tf.logging.info('complete training...')"
   ]
  },
  {
   "cell_type": "markdown",
   "metadata": {},
   "source": [
    "### Plot the loss"
   ]
  },
  {
   "cell_type": "code",
   "execution_count": 28,
   "metadata": {},
   "outputs": [
    {
     "data": {
      "text/plain": [
       "[<matplotlib.lines.Line2D at 0x11bdc3518>]"
      ]
     },
     "execution_count": 28,
     "metadata": {},
     "output_type": "execute_result"
    },
    {
     "data": {
      "image/png": "[encoded data removed]",
      "text/plain": [
       "<Figure size 432x288 with 1 Axes>"
      ]
     },
     "metadata": {},
     "output_type": "display_data"
    }
   ],
   "source": [
    "loss_history = np.array(loss_history)\n",
    "plt.plot(loss_history[:,0], loss_history[:,1], label='train')"
   ]
  },
  {
   "cell_type": "markdown",
   "metadata": {},
   "source": [
    "### Train accuracy and predcition"
   ]
  },
  {
   "cell_type": "code",
   "execution_count": 29,
   "metadata": {},
   "outputs": [],
   "source": [
    "train_dataset_eval = tf.data.Dataset.from_tensor_slices((x_train_pad, x_train_seq_length, y_train))\n",
    "train_dataset_eval = train_dataset_eval.batch(batch_size = len(x_train_pad))"
   ]
  },
  {
   "cell_type": "code",
   "execution_count": 30,
   "metadata": {},
   "outputs": [],
   "source": [
    "train_iterator_eval = train_dataset_eval.make_initializable_iterator()\n",
    "train_handle_eval = sess.run(train_iterator_eval.string_handle())\n",
    "sess.run(train_iterator_eval.initializer)"
   ]
  },
  {
   "cell_type": "code",
   "execution_count": 31,
   "metadata": {},
   "outputs": [
    {
     "name": "stdout",
     "output_type": "stream",
     "text": [
      "test accuracy: 1.0\n"
     ]
    }
   ],
   "source": [
    "accuracy, acc_op = tf.metrics.accuracy(labels=labels, predictions=model.predictions, name='accuracy')\n",
    "sess.run(tf.local_variables_initializer())\n",
    "\n",
    "sess.run(acc_op, feed_dict={handle: train_handle_eval})\n",
    "print(\"test accuracy:\", sess.run(accuracy))"
   ]
  },
  {
   "cell_type": "code",
   "execution_count": 32,
   "metadata": {},
   "outputs": [],
   "source": [
    "sess.run(train_iterator_eval.initializer)\n",
    "x_test_pad, y_pred = sess.run([model.seq_pad, model.predictions],\n",
    "                              feed_dict={handle: train_handle_eval})"
   ]
  },
  {
   "cell_type": "code",
   "execution_count": 33,
   "metadata": {},
   "outputs": [
    {
     "name": "stdout",
     "output_type": "stream",
     "text": [
      "good : good\n",
      "bad : bad\n",
      "amazing : good\n",
      "so good : good\n",
      "bull shit : bad\n",
      "awesome : good\n",
      "how dare : bad\n",
      "very much : good\n",
      "nice : good\n",
      "god damn it : bad\n",
      "very very very happy : good\n",
      "what the fuck : bad\n"
     ]
    }
   ],
   "source": [
    "for x, y in zip(x_test_pad, y_pred):\n",
    "  if y == 0:\n",
    "    print(\"{} : good\".format(tokens_to_string(x)))\n",
    "  else:\n",
    "    print(\"{} : bad\".format(tokens_to_string(x)))"
   ]
  }
 ],
 "metadata": {
  "kernelspec": {
   "display_name": "Python 3",
   "language": "python",
   "name": "python3"
  },
  "language_info": {
   "codemirror_mode": {
    "name": "ipython",
    "version": 3
   },
   "file_extension": ".py",
   "mimetype": "text/x-python",
   "name": "python",
   "nbconvert_exporter": "python",
   "pygments_lexer": "ipython3",
   "version": "3.6.5"
  }
 },
 "nbformat": 4,
 "nbformat_minor": 2
}
