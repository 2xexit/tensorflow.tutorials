{
 "cells": [
  {
   "cell_type": "markdown",
   "metadata": {},
   "source": [
    "# RNN for text and sequences\n",
    "\n",
    "### Reference\n",
    "* Deep Learning with Python, F. Chollet\n",
    "* All figures are borrowed from above book\n",
    "\n",
    "### Preprocessing\n",
    "* Preprocessing text data into useful representations\n",
    "* Working with RNN\n",
    "\n",
    "### Applications of RNN\n",
    "\n",
    "* Document classification and timeseries classification, such as identifying the topic of an article or the author of a book\n",
    "* Timeseries comparisons, such as estimating how closely related two documents or two stock tickers are\n",
    "* Sequence-to-sequence learning, such as decoding an English sentence into French\n",
    "* Sentiment analysis, such as classifying the sentiment of tweets or movie reviews as positive or negative\n",
    "* Timeseries forecasting, such as predicting the future weather at a certain location, given recent weather data"
   ]
  },
  {
   "cell_type": "markdown",
   "metadata": {},
   "source": [
    "### *Vetorizing* text\n",
    "\n",
    "* Examples\n",
    "  * Segment text into words, and transform each word into a vector.\n",
    "  * Segment text into characters, and transform each character into a vector.\n",
    "* **Tokenization**: segment text into words or charaters\n",
    "* **Embedding**: transform them into a vectors\n",
    "  * *one-hot* encoding (sparse vector)\n",
    "  * **embedding** (dense vector)\n",
    "\n",
    "Tokenization\n",
    "<img width=\"30%\" alt=\"tokenization\" src=\"https://user-images.githubusercontent.com/11681225/46912311-f9f97580-cfac-11e8-9ce1-7aedc99f0982.png\">\n",
    "\n",
    "Word embedding\n",
    "<img width=\"30%\" alt=\"word_embedding\" src=\"https://user-images.githubusercontent.com/11681225/46912315-0d0c4580-cfad-11e8-8cb4-cc10a6a1860c.png\">\n",
    "\n",
    "\n",
    "* Two ways of word embedding\n",
    "  * Learned from data\n",
    "  * import pre-trained word vector (like word2vec)\n",
    "\n",
    "```python\n",
    "# TensorFlow code (one-hot embedding)\n",
    "one_hot_matrix = tf.get_variable(name='one_hot_embedding',\n",
    "                                 initializer=tf.eye(num_words, dtype=tf.float32),\n",
    "                                 trainable=False) \n",
    "embeddings = tf.nn.embedding_lookup(params=one_hot_matrix, ids=train_seq)\n",
    "\n",
    "# TensorFlow code (dense vector embedding)\n",
    "embedding_matrix = tf.get_variable(name='embedding',\n",
    "                                   shape=[num_words, embedding_size],\n",
    "                                   initializer=tf.random_uniform_initializer(minval=-0.1,\n",
    "                                                                             maxval=0.1))\n",
    "embeddings = tf.nn.embedding_lookup(params=embedding_matrix, ids=train_seq)\n",
    "\n",
    "```"
   ]
  }
 ],
 "metadata": {
  "kernelspec": {
   "display_name": "Python 3",
   "language": "python",
   "name": "python3"
  },
  "language_info": {
   "codemirror_mode": {
    "name": "ipython",
    "version": 3
   },
   "file_extension": ".py",
   "mimetype": "text/x-python",
   "name": "python",
   "nbconvert_exporter": "python",
   "pygments_lexer": "ipython3",
   "version": "3.6.5"
  }
 },
 "nbformat": 4,
 "nbformat_minor": 2
}
